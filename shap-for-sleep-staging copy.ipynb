{
 "cells": [
  {
   "cell_type": "code",
   "execution_count": null,
   "metadata": {},
   "outputs": [
    {
     "name": "stdout",
     "output_type": "stream",
     "text": [
      "Extracting EDF parameters from /home/user/sleep-stage/rmlogic_data/data/REMLOGIC HASTA VERİLERİ/2d42885b-ba49-4c21-9e8f-4963349f252c/Traces.edf...\n",
      "EDF file detected\n",
      "Setting channel info structure...\n",
      "Creating raw.info structure...\n",
      "Reading 0 ... 5679103  =      0.000 ... 22183.996 secs...\n"
     ]
    },
    {
     "name": "stderr",
     "output_type": "stream",
     "text": [
      "/tmp/ipykernel_3030637/2445920671.py:11: RuntimeWarning: Limited 1 annotation(s) that were expanding outside the data range.\n",
      "  psg_data.set_annotations(annotations)\n"
     ]
    },
    {
     "ename": "",
     "evalue": "",
     "output_type": "error",
     "traceback": [
      "\u001b[1;31mThe Kernel crashed while executing code in the current cell or a previous cell. \n",
      "\u001b[1;31mPlease review the code in the cell(s) to identify a possible cause of the failure. \n",
      "\u001b[1;31mClick <a href='https://aka.ms/vscodeJupyterKernelCrash'>here</a> for more info. \n",
      "\u001b[1;31mView Jupyter <a href='command:jupyter.viewOutput'>log</a> for further details."
     ]
    }
   ],
   "source": [
    "import mne\n",
    "\n",
    "files = [\"/home/user/sleep-stage/rmlogic_data/data/REMLOGIC HASTA VERİLERİ/2d42885b-ba49-4c21-9e8f-4963349f252c/Traces.edf\",\n",
    "         \"/home/user/sleep-stage/rmlogic_data/data/REMLOGIC HASTA VERİLERİ/2d42885b-ba49-4c21-9e8f-4963349f252c/Traces_annotations.edf\"]\n",
    "\n",
    "# PSG verisini ve anotasyonları oku\n",
    "psg_data = mne.io.read_raw_edf(files[0], preload=True)  # PSG verisi\n",
    "annotations = mne.read_annotations(files[1])  # Uyku evreleri anotasyonları\n",
    "\n",
    "# Anotasyonları PSG verisine ekleyelim\n",
    "psg_data.set_annotations(annotations)\n",
    "\n",
    "# PSG verisinin örnekleme frekansı\n",
    "sfreq = psg_data.info['sfreq']"
   ]
  },
  {
   "cell_type": "code",
   "execution_count": null,
   "metadata": {},
   "outputs": [],
   "source": [
    "import numpy as np\n",
    "import pandas as pd\n",
    "from scipy.stats import skew, kurtosis\n",
    "\n",
    "# 30 saniyelik epoch uzunluğu\n",
    "epoch_length = 30  # saniye\n",
    "samples_per_epoch = int(epoch_length * sfreq)  # Her epoch'un örnek sayısı\n",
    "\n",
    "# Sinyali 30 saniyelik epoch'lara ayıralım\n",
    "X_epochs = []\n",
    "n_epochs = len(annotations)  # Toplam epoch sayısı\n",
    "\n",
    "for i in range(n_epochs):\n",
    "    start_sample = i * samples_per_epoch\n",
    "    end_sample = start_sample + samples_per_epoch\n",
    "    \n",
    "    if end_sample <= psg_data.n_times:  # Veri sınırlarını aşmamaya dikkat et\n",
    "        X_epochs.append(psg_data.get_data()[:, start_sample:end_sample])\n",
    "\n",
    "# Listeyi NumPy dizisine çevir\n",
    "X_epochs = np.array(X_epochs)  # (n_epochs, n_channels, samples_per_epoch)\n",
    "\n",
    "# Etiketleri çıkar\n",
    "y = [annot['description'] for annot in annotations]\n"
   ]
  },
  {
   "cell_type": "code",
   "execution_count": null,
   "metadata": {},
   "outputs": [],
   "source": [
    "def extract_features(epoch):\n",
    "    \"\"\"Her epoch için özellik çıkaran fonksiyon\"\"\"\n",
    "    return {\n",
    "        \"mean\": np.mean(epoch, axis=1),       # Kanal bazında ortalama\n",
    "        \"std\": np.std(epoch, axis=1),         # Kanal bazında standart sapma\n",
    "        \"skewness\": skew(epoch, axis=1),      # Kanal bazında çarpıklık\n",
    "        \"kurtosis\": kurtosis(epoch, axis=1),  # Kanal bazında basıklık\n",
    "        \"power\": np.sum(epoch**2, axis=1),    # Kanal bazında güç\n",
    "    }\n",
    "\n",
    "# Tüm epoch'lar için özellikleri çıkar\n",
    "feature_list = [extract_features(epoch) for epoch in X_epochs]\n",
    "\n",
    "# Özellikleri dataframe formatına getir\n",
    "df_features = pd.DataFrame(feature_list)\n",
    "\n",
    "# Anotasyonları dataframe'e ekle\n",
    "df_features[\"sleep_stage\"] = y\n"
   ]
  },
  {
   "cell_type": "code",
   "execution_count": null,
   "metadata": {},
   "outputs": [],
   "source": [
    "from sklearn.ensemble import RandomForestClassifier\n",
    "from sklearn.model_selection import train_test_split\n",
    "import shap\n",
    "\n",
    "# Bağımsız ve bağımlı değişkenleri ayır\n",
    "X = df_features.drop(columns=[\"sleep_stage\"])\n",
    "y = df_features[\"sleep_stage\"]\n",
    "\n",
    "# Eğitim ve test verisine ayır\n",
    "X_train, X_test, y_train, y_test = train_test_split(X, y, test_size=0.2, random_state=42)\n",
    "\n",
    "# Modeli eğitme\n",
    "clf = RandomForestClassifier(n_estimators=100, random_state=42)\n",
    "clf.fit(X_train, y_train)\n",
    "\n",
    "# SHAP analizi\n",
    "explainer = shap.Explainer(clf, X_train)\n",
    "shap_values = explainer(X_test)\n",
    "\n",
    "# SHAP grafiğini çiz\n",
    "shap.summary_plot(shap_values, X_test)\n"
   ]
  }
 ],
 "metadata": {
  "kernelspec": {
   "display_name": "Python 3",
   "language": "python",
   "name": "python3"
  },
  "language_info": {
   "codemirror_mode": {
    "name": "ipython",
    "version": 3
   },
   "file_extension": ".py",
   "mimetype": "text/x-python",
   "name": "python",
   "nbconvert_exporter": "python",
   "pygments_lexer": "ipython3",
   "version": "3.10.12"
  }
 },
 "nbformat": 4,
 "nbformat_minor": 2
}
